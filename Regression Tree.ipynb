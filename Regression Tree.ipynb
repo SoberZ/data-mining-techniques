{
 "cells": [
  {
   "cell_type": "markdown",
   "id": "4efdb32d",
   "metadata": {},
   "source": [
    "# Regression Tree / Random forest\n",
    "This notebook contains the code for generating the random forest regressor. It starts with a single regression tree. We decide the optimal depth and do pruning. The notebook finishes with using an ensemble: the random forest regressor. We perform the same methods on it and compare it with the single regression tree. \n",
    "\n",
    "Made by: Yari Anrango\n",
    "\n",
    "Date: 18-04-23"
   ]
  },
  {
   "cell_type": "code",
   "execution_count": 33,
   "id": "fd4b6042",
   "metadata": {},
   "outputs": [],
   "source": [
    "from sklearn.tree import DecisionTreeRegressor\n",
    "from sklearn.model_selection import train_test_split\n",
    "from sklearn.decomposition import PCA\n",
    "from sklearn.metrics import mean_squared_error\n",
    "from sklearn.ensemble import RandomForestRegressor\n",
    "import matplotlib.pyplot as plt\n",
    "import pandas as pd\n",
    "import numpy as np"
   ]
  },
  {
   "cell_type": "markdown",
   "id": "010c1c51",
   "metadata": {},
   "source": [
    "# Train, validation, test set"
   ]
  },
  {
   "cell_type": "code",
   "execution_count": 2,
   "id": "0800f0f2",
   "metadata": {},
   "outputs": [
    {
     "data": {
      "text/html": [
       "<div>\n",
       "<style scoped>\n",
       "    .dataframe tbody tr th:only-of-type {\n",
       "        vertical-align: middle;\n",
       "    }\n",
       "\n",
       "    .dataframe tbody tr th {\n",
       "        vertical-align: top;\n",
       "    }\n",
       "\n",
       "    .dataframe thead th {\n",
       "        text-align: right;\n",
       "    }\n",
       "</style>\n",
       "<table border=\"1\" class=\"dataframe\">\n",
       "  <thead>\n",
       "    <tr style=\"text-align: right;\">\n",
       "      <th></th>\n",
       "      <th>0</th>\n",
       "      <th>1</th>\n",
       "      <th>2</th>\n",
       "      <th>3</th>\n",
       "      <th>4</th>\n",
       "      <th>5</th>\n",
       "      <th>6</th>\n",
       "      <th>7</th>\n",
       "      <th>8</th>\n",
       "      <th>9</th>\n",
       "      <th>10</th>\n",
       "      <th>11</th>\n",
       "      <th>mood</th>\n",
       "    </tr>\n",
       "  </thead>\n",
       "  <tbody>\n",
       "    <tr>\n",
       "      <th>0</th>\n",
       "      <td>0.699716</td>\n",
       "      <td>0.246129</td>\n",
       "      <td>0.116635</td>\n",
       "      <td>-0.273108</td>\n",
       "      <td>-0.062836</td>\n",
       "      <td>0.040740</td>\n",
       "      <td>0.079696</td>\n",
       "      <td>0.002588</td>\n",
       "      <td>-0.043754</td>\n",
       "      <td>0.073418</td>\n",
       "      <td>-0.266104</td>\n",
       "      <td>0.087415</td>\n",
       "      <td>0.533333</td>\n",
       "    </tr>\n",
       "    <tr>\n",
       "      <th>1</th>\n",
       "      <td>0.400494</td>\n",
       "      <td>0.135455</td>\n",
       "      <td>0.137094</td>\n",
       "      <td>-0.179559</td>\n",
       "      <td>0.033187</td>\n",
       "      <td>0.118881</td>\n",
       "      <td>0.067689</td>\n",
       "      <td>0.009766</td>\n",
       "      <td>-0.055018</td>\n",
       "      <td>0.026952</td>\n",
       "      <td>-0.124208</td>\n",
       "      <td>0.070269</td>\n",
       "      <td>0.566667</td>\n",
       "    </tr>\n",
       "    <tr>\n",
       "      <th>2</th>\n",
       "      <td>0.309390</td>\n",
       "      <td>0.055626</td>\n",
       "      <td>0.096834</td>\n",
       "      <td>-0.149769</td>\n",
       "      <td>0.003255</td>\n",
       "      <td>0.131676</td>\n",
       "      <td>0.035541</td>\n",
       "      <td>-0.002411</td>\n",
       "      <td>-0.063246</td>\n",
       "      <td>0.015687</td>\n",
       "      <td>-0.078657</td>\n",
       "      <td>0.049075</td>\n",
       "      <td>0.633333</td>\n",
       "    </tr>\n",
       "    <tr>\n",
       "      <th>3</th>\n",
       "      <td>0.362123</td>\n",
       "      <td>0.172488</td>\n",
       "      <td>0.064722</td>\n",
       "      <td>-0.195087</td>\n",
       "      <td>0.076621</td>\n",
       "      <td>0.157589</td>\n",
       "      <td>0.061462</td>\n",
       "      <td>0.044569</td>\n",
       "      <td>-0.062924</td>\n",
       "      <td>0.063388</td>\n",
       "      <td>-0.097793</td>\n",
       "      <td>0.050759</td>\n",
       "      <td>0.500000</td>\n",
       "    </tr>\n",
       "    <tr>\n",
       "      <th>4</th>\n",
       "      <td>0.412171</td>\n",
       "      <td>0.071362</td>\n",
       "      <td>0.044727</td>\n",
       "      <td>-0.204008</td>\n",
       "      <td>0.015729</td>\n",
       "      <td>0.201462</td>\n",
       "      <td>0.090661</td>\n",
       "      <td>0.010865</td>\n",
       "      <td>-0.064298</td>\n",
       "      <td>0.055714</td>\n",
       "      <td>-0.069057</td>\n",
       "      <td>0.055631</td>\n",
       "      <td>0.625000</td>\n",
       "    </tr>\n",
       "  </tbody>\n",
       "</table>\n",
       "</div>"
      ],
      "text/plain": [
       "          0         1         2         3         4         5         6  \\\n",
       "0  0.699716  0.246129  0.116635 -0.273108 -0.062836  0.040740  0.079696   \n",
       "1  0.400494  0.135455  0.137094 -0.179559  0.033187  0.118881  0.067689   \n",
       "2  0.309390  0.055626  0.096834 -0.149769  0.003255  0.131676  0.035541   \n",
       "3  0.362123  0.172488  0.064722 -0.195087  0.076621  0.157589  0.061462   \n",
       "4  0.412171  0.071362  0.044727 -0.204008  0.015729  0.201462  0.090661   \n",
       "\n",
       "          7         8         9        10        11      mood  \n",
       "0  0.002588 -0.043754  0.073418 -0.266104  0.087415  0.533333  \n",
       "1  0.009766 -0.055018  0.026952 -0.124208  0.070269  0.566667  \n",
       "2 -0.002411 -0.063246  0.015687 -0.078657  0.049075  0.633333  \n",
       "3  0.044569 -0.062924  0.063388 -0.097793  0.050759  0.500000  \n",
       "4  0.010865 -0.064298  0.055714 -0.069057  0.055631  0.625000  "
      ]
     },
     "execution_count": 2,
     "metadata": {},
     "output_type": "execute_result"
    }
   ],
   "source": [
    "dat = pd.read_csv('pca_dat.csv')\n",
    "dat = dat.drop('Unnamed: 0', axis = 1)\n",
    "dat.head()"
   ]
  },
  {
   "cell_type": "code",
   "execution_count": 3,
   "id": "a5c824d7",
   "metadata": {},
   "outputs": [],
   "source": [
    "features = dat.drop(['mood'], axis = 1)\n",
    "target = dat['mood']\n",
    "\n",
    "train, val, target_train, target_val = train_test_split(features, target, test_size=0.2, random_state=0)\n",
    "train, test, target_train, target_test = train_test_split(train, target_train, test_size=0.2, random_state=0)"
   ]
  },
  {
   "cell_type": "markdown",
   "id": "1325c091",
   "metadata": {},
   "source": [
    "# Decision Tree"
   ]
  },
  {
   "cell_type": "markdown",
   "id": "58e7cfb8",
   "metadata": {},
   "source": [
    "## Training"
   ]
  },
  {
   "cell_type": "code",
   "execution_count": 4,
   "id": "12d8866e",
   "metadata": {},
   "outputs": [],
   "source": [
    "def make_regression_tree(train,train_target,test,test_target, max_depth):\n",
    "    mse = {}\n",
    "    rmse = {}\n",
    "    depths = range(1,max_depth)\n",
    "    for d in depths:\n",
    "        regr = DecisionTreeRegressor(max_depth=d)\n",
    "        regr.fit(train, train_target)\n",
    "        regr_pred = regr.predict(test)\n",
    "        mse_ev = mean_squared_error(test_target, regr_pred)\n",
    "        mse[str(d)] = mse_ev\n",
    "        \n",
    "        rmse_ev = mean_squared_error(test_target, regr_pred, squared=False)\n",
    "        rmse[str(d)] = rmse_ev\n",
    "    print('lowest mse is found at tree with depth', str(min(mse, key=mse.get)))\n",
    "    print('lowest rmse is found at tree with depth', str(min(rmse, key=rmse.get)))\n",
    "    return rmse, mse"
   ]
  },
  {
   "cell_type": "code",
   "execution_count": 8,
   "id": "f4435cae",
   "metadata": {},
   "outputs": [
    {
     "name": "stdout",
     "output_type": "stream",
     "text": [
      "lowest mse is found at tree with depth 30\n",
      "lowest rmse is found at tree with depth 30\n"
     ]
    }
   ],
   "source": [
    "rmse, mse = make_regression_tree(train, target_train, val, target_val, max_depth = 40)"
   ]
  },
  {
   "cell_type": "code",
   "execution_count": 12,
   "id": "37a39942",
   "metadata": {},
   "outputs": [
    {
     "data": {
      "text/plain": [
       "Text(0.5, 1.0, 'Score of Regression tree per depth')"
      ]
     },
     "execution_count": 12,
     "metadata": {},
     "output_type": "execute_result"
    },
    {
     "data": {
      "image/png": "[encoded data removed]",
      "text/plain": [
       "<Figure size 432x288 with 1 Axes>"
      ]
     },
     "metadata": {
      "needs_background": "light"
     },
     "output_type": "display_data"
    }
   ],
   "source": [
    "plt.plot(pd.DataFrame({'rmse':rmse,'mse':mse}))\n",
    "plt.xlabel('depth')\n",
    "plt.ylabel('Score')\n",
    "plt.legend(['rmse','mse'])\n",
    "plt.title('Score of Regression tree per depth')"
   ]
  },
  {
   "cell_type": "code",
   "execution_count": 18,
   "id": "526e5af9",
   "metadata": {},
   "outputs": [
    {
     "data": {
      "image/png": "[encoded data removed]",
      "text/plain": [
       "<Figure size 432x288 with 1 Axes>"
      ]
     },
     "metadata": {
      "needs_background": "light"
     },
     "output_type": "display_data"
    }
   ],
   "source": [
    "regr = DecisionTreeRegressor(max_depth = 30)\n",
    "regr.fit(train, target_train)\n",
    "regr_pred = regr.predict(val)\n",
    "mse_ev = mean_squared_error(target_val, regr_pred)\n",
    "\n",
    "plt.figure()\n",
    "plt.scatter(target_val, regr_pred, color=\"cornflowerblue\", label=\"max_depth=30\", linewidth=2)\n",
    "plt.xlabel(\"data\")\n",
    "plt.ylabel(\"target\")\n",
    "plt.title(\"Decision Tree Regression with mse: {:.4f}\".format(mse_ev))\n",
    "plt.legend()\n",
    "plt.show()"
   ]
  },
  {
   "cell_type": "markdown",
   "id": "d2ffaa08",
   "metadata": {},
   "source": [
    "## Pruning"
   ]
  },
  {
   "cell_type": "code",
   "execution_count": 20,
   "id": "d1ab2946",
   "metadata": {},
   "outputs": [],
   "source": [
    "regr = DecisionTreeRegressor(max_depth=30)\n",
    "path = regr.cost_complexity_pruning_path(train, target_train)\n",
    "ccp_alphas, impurities = path.ccp_alphas, path.impurities"
   ]
  },
  {
   "cell_type": "code",
   "execution_count": 21,
   "id": "7eedfbcf",
   "metadata": {},
   "outputs": [
    {
     "data": {
      "text/plain": [
       "Text(0.5, 1.0, 'Total Impurity vs effective alpha for training set')"
      ]
     },
     "execution_count": 21,
     "metadata": {},
     "output_type": "execute_result"
    },
    {
     "data": {
      "image/png": "[encoded data removed]",
      "text/plain": [
       "<Figure size 432x288 with 1 Axes>"
      ]
     },
     "metadata": {
      "needs_background": "light"
     },
     "output_type": "display_data"
    }
   ],
   "source": [
    "fig, ax = plt.subplots()\n",
    "ax.plot(ccp_alphas[:-1], impurities[:-1], marker=\"o\", drawstyle=\"steps-post\")\n",
    "ax.set_xlabel(\"effective alpha\")\n",
    "ax.set_ylabel(\"total impurity of leaves\")\n",
    "ax.set_title(\"Total Impurity vs effective alpha for training set\")"
   ]
  },
  {
   "cell_type": "code",
   "execution_count": 23,
   "id": "a9ad5a73",
   "metadata": {},
   "outputs": [
    {
     "name": "stdout",
     "output_type": "stream",
     "text": [
      "Number of nodes in the last tree is: 1 with ccp_alpha: 0.006089162521640211\n"
     ]
    }
   ],
   "source": [
    "regrs = []\n",
    "for ccp_alpha in ccp_alphas:\n",
    "    regr = DecisionTreeRegressor(max_depth=4, ccp_alpha=ccp_alpha)\n",
    "    regr.fit(train, target_train)\n",
    "    regrs.append(regr)\n",
    "print(\n",
    "    \"Number of nodes in the last tree is: {} with ccp_alpha: {}\".format(\n",
    "        regrs[-1].tree_.node_count, ccp_alphas[-1]\n",
    "    )\n",
    ")"
   ]
  },
  {
   "cell_type": "code",
   "execution_count": 24,
   "id": "3178bdf9",
   "metadata": {},
   "outputs": [
    {
     "data": {
      "image/png": "[encoded data removed]",
      "text/plain": [
       "<Figure size 432x288 with 1 Axes>"
      ]
     },
     "metadata": {
      "needs_background": "light"
     },
     "output_type": "display_data"
    }
   ],
   "source": [
    "train_scores = []\n",
    "test_scores = []\n",
    "for r in regrs: \n",
    "    regr_pred_tr = r.predict(train)\n",
    "    \n",
    "    mse_tr = mean_squared_error(target_train, regr_pred_tr)\n",
    "    train_scores.append(mse_tr)\n",
    "    \n",
    "    regr_pred_te = r.predict(val)\n",
    "    \n",
    "    mse_te = mean_squared_error(target_val, regr_pred_te)\n",
    "    test_scores.append(mse_te)\n",
    "\n",
    "fig, ax = plt.subplots()\n",
    "ax.set_xlabel(\"alpha\")\n",
    "ax.set_ylabel(\"mse\")\n",
    "ax.set_title(\"MSE vs alpha for training and testing sets\")\n",
    "ax.plot(ccp_alphas, train_scores, marker=\"o\", label=\"train\", drawstyle=\"steps-post\")\n",
    "ax.plot(ccp_alphas, test_scores, marker=\"o\", label=\"test\", drawstyle=\"steps-post\")\n",
    "ax.legend()\n",
    "plt.show()"
   ]
  },
  {
   "cell_type": "markdown",
   "id": "9e0d81f6",
   "metadata": {},
   "source": [
    "# Random forest regressor"
   ]
  },
  {
   "cell_type": "code",
   "execution_count": 26,
   "id": "4bf2750b",
   "metadata": {},
   "outputs": [
    {
     "data": {
      "text/plain": [
       "RandomForestRegressor(max_depth=30, random_state=0)"
      ]
     },
     "execution_count": 26,
     "metadata": {},
     "output_type": "execute_result"
    }
   ],
   "source": [
    "forest = RandomForestRegressor(max_depth=30, random_state=0)\n",
    "forest.fit(train, target_train)"
   ]
  },
  {
   "cell_type": "code",
   "execution_count": 27,
   "id": "cd3bdb0b",
   "metadata": {},
   "outputs": [
    {
     "data": {
      "text/plain": [
       "0.000714336641984771"
      ]
     },
     "execution_count": 27,
     "metadata": {},
     "output_type": "execute_result"
    }
   ],
   "source": [
    "forest_pred = forest.predict(val)\n",
    "mse_forest = mean_squared_error(target_val, forest_pred)\n",
    "mse_forest"
   ]
  },
  {
   "cell_type": "code",
   "execution_count": 28,
   "id": "670ae0e3",
   "metadata": {},
   "outputs": [
    {
     "data": {
      "text/plain": [
       "Text(0.5, 1.0, 'Performance of Random Forest Regressor with mse: 0.0019')"
      ]
     },
     "execution_count": 28,
     "metadata": {},
     "output_type": "execute_result"
    },
    {
     "data": {
      "image/png": "[encoded data removed]",
      "text/plain": [
       "<Figure size 432x288 with 1 Axes>"
      ]
     },
     "metadata": {
      "needs_background": "light"
     },
     "output_type": "display_data"
    }
   ],
   "source": [
    "plt.scatter(forest_pred, target_val)\n",
    "plt.xlabel('Predicted value')\n",
    "plt.ylabel('Actual value')\n",
    "plt.title('Performance of Random Forest Regressor with mse: 0.0019')"
   ]
  },
  {
   "cell_type": "markdown",
   "id": "88ed1b74",
   "metadata": {},
   "source": [
    "## Parameter tuning"
   ]
  },
  {
   "cell_type": "code",
   "execution_count": 29,
   "id": "e821f89a",
   "metadata": {},
   "outputs": [],
   "source": [
    "def test_forest(train,train_target,test,test_target, max_depth):\n",
    "    mse = {}\n",
    "    rmse = {}\n",
    "    depths = range(1,max_depth)\n",
    "    for d in depths:\n",
    "        print('training depth =', str(d))\n",
    "        regr = RandomForestRegressor(max_depth=d, random_state = 0)\n",
    "        regr.fit(train, train_target)\n",
    "        regr_pred = regr.predict(test)\n",
    "        mse_ev = mean_squared_error(test_target, regr_pred)\n",
    "        mse[str(d)] = mse_ev\n",
    "        \n",
    "        rmse_ev = mean_squared_error(test_target, regr_pred, squared=False)\n",
    "        rmse[str(d)] = rmse_ev\n",
    "    print('lowest mse is found at tree with depth', str(min(mse, key=mse.get)))\n",
    "    print('lowest rmse is found at tree with depth', str(min(rmse, key=rmse.get)))\n",
    "    return rmse, mse"
   ]
  },
  {
   "cell_type": "code",
   "execution_count": 30,
   "id": "a0a5c907",
   "metadata": {},
   "outputs": [
    {
     "name": "stdout",
     "output_type": "stream",
     "text": [
      "training depth = 1\n",
      "training depth = 2\n",
      "training depth = 3\n",
      "training depth = 4\n",
      "training depth = 5\n",
      "training depth = 6\n",
      "training depth = 7\n",
      "training depth = 8\n",
      "training depth = 9\n",
      "training depth = 10\n",
      "training depth = 11\n",
      "training depth = 12\n",
      "training depth = 13\n",
      "training depth = 14\n",
      "training depth = 15\n",
      "training depth = 16\n",
      "training depth = 17\n",
      "training depth = 18\n",
      "training depth = 19\n",
      "training depth = 20\n",
      "training depth = 21\n",
      "training depth = 22\n",
      "training depth = 23\n",
      "training depth = 24\n",
      "training depth = 25\n",
      "training depth = 26\n",
      "training depth = 27\n",
      "training depth = 28\n",
      "training depth = 29\n",
      "training depth = 30\n",
      "training depth = 31\n",
      "training depth = 32\n",
      "training depth = 33\n",
      "training depth = 34\n",
      "training depth = 35\n",
      "training depth = 36\n",
      "training depth = 37\n",
      "training depth = 38\n",
      "training depth = 39\n",
      "lowest mse is found at tree with depth 13\n",
      "lowest rmse is found at tree with depth 13\n"
     ]
    }
   ],
   "source": [
    "forest_rmse, forest_mse = test_forest(train, target_train, val, target_val, max_depth = 40)"
   ]
  },
  {
   "cell_type": "code",
   "execution_count": 31,
   "id": "ad764036",
   "metadata": {},
   "outputs": [
    {
     "data": {
      "text/plain": [
       "<matplotlib.legend.Legend at 0x7fe6a86f8550>"
      ]
     },
     "execution_count": 31,
     "metadata": {},
     "output_type": "execute_result"
    },
    {
     "data": {
      "image/png": "[encoded data removed]",
      "text/plain": [
       "<Figure size 432x288 with 1 Axes>"
      ]
     },
     "metadata": {
      "needs_background": "light"
     },
     "output_type": "display_data"
    }
   ],
   "source": [
    "plt.plot(pd.DataFrame({'rmse':forest_rmse,'mse':forest_mse}))\n",
    "plt.xlabel('depth')\n",
    "plt.ylabel('score')\n",
    "plt.title('RMSE and MSE for every depth of the RFR')\n",
    "plt.legend(['RMSE','MSE'])"
   ]
  },
  {
   "cell_type": "markdown",
   "id": "e47978e5",
   "metadata": {},
   "source": [
    "It appears that the mse and rmse drop down to a certain level until they will not decrease anymore. As a result we will pick a depth that found the lowest mse and rmse: depth = 13."
   ]
  },
  {
   "cell_type": "markdown",
   "id": "e950ad6d",
   "metadata": {},
   "source": [
    "## Pruning"
   ]
  },
  {
   "cell_type": "code",
   "execution_count": 34,
   "id": "bd274188",
   "metadata": {},
   "outputs": [
    {
     "name": "stdout",
     "output_type": "stream",
     "text": [
      "working on alpha =  0.0\n",
      "working on alpha =  0.0001\n",
      "working on alpha =  0.0002\n",
      "working on alpha =  0.00030000000000000003\n",
      "working on alpha =  0.0004\n",
      "working on alpha =  0.0005\n",
      "working on alpha =  0.0006000000000000001\n",
      "working on alpha =  0.0007\n",
      "working on alpha =  0.0008\n",
      "working on alpha =  0.0009000000000000001\n",
      "working on alpha =  0.001\n",
      "working on alpha =  0.0011\n",
      "working on alpha =  0.0012000000000000001\n",
      "working on alpha =  0.0013000000000000002\n",
      "working on alpha =  0.0014\n",
      "working on alpha =  0.0015\n",
      "working on alpha =  0.0016\n",
      "working on alpha =  0.0017000000000000001\n",
      "working on alpha =  0.0018000000000000002\n",
      "working on alpha =  0.0019\n",
      "working on alpha =  0.002\n",
      "working on alpha =  0.0021000000000000003\n",
      "working on alpha =  0.0022\n",
      "working on alpha =  0.0023\n",
      "working on alpha =  0.0024000000000000002\n",
      "working on alpha =  0.0025\n",
      "working on alpha =  0.0026000000000000003\n",
      "working on alpha =  0.0027\n",
      "working on alpha =  0.0028\n",
      "working on alpha =  0.0029000000000000002\n",
      "working on alpha =  0.003\n",
      "working on alpha =  0.0031000000000000003\n",
      "working on alpha =  0.0032\n",
      "working on alpha =  0.0033\n",
      "working on alpha =  0.0034000000000000002\n",
      "working on alpha =  0.0035\n",
      "working on alpha =  0.0036000000000000003\n",
      "working on alpha =  0.0037\n",
      "working on alpha =  0.0038\n",
      "working on alpha =  0.0039000000000000003\n",
      "working on alpha =  0.004\n",
      "working on alpha =  0.0041\n",
      "working on alpha =  0.004200000000000001\n",
      "working on alpha =  0.0043\n",
      "working on alpha =  0.0044\n",
      "working on alpha =  0.0045000000000000005\n",
      "working on alpha =  0.0046\n",
      "working on alpha =  0.0047\n",
      "working on alpha =  0.0048000000000000004\n",
      "working on alpha =  0.0049\n",
      "working on alpha =  0.005\n",
      "working on alpha =  0.0051\n",
      "working on alpha =  0.005200000000000001\n",
      "working on alpha =  0.0053\n",
      "working on alpha =  0.0054\n",
      "working on alpha =  0.0055000000000000005\n",
      "working on alpha =  0.0056\n",
      "working on alpha =  0.0057\n",
      "working on alpha =  0.0058000000000000005\n",
      "working on alpha =  0.0059\n",
      "working on alpha =  0.006\n",
      "working on alpha =  0.0061\n",
      "working on alpha =  0.006200000000000001\n",
      "working on alpha =  0.0063\n",
      "working on alpha =  0.0064\n",
      "working on alpha =  0.006500000000000001\n",
      "working on alpha =  0.0066\n",
      "working on alpha =  0.0067\n",
      "working on alpha =  0.0068000000000000005\n",
      "working on alpha =  0.006900000000000001\n",
      "working on alpha =  0.007\n",
      "working on alpha =  0.0071\n",
      "working on alpha =  0.007200000000000001\n",
      "working on alpha =  0.0073\n",
      "working on alpha =  0.0074\n",
      "working on alpha =  0.007500000000000001\n",
      "working on alpha =  0.0076\n",
      "working on alpha =  0.0077\n",
      "working on alpha =  0.0078000000000000005\n",
      "working on alpha =  0.0079\n",
      "working on alpha =  0.008\n",
      "working on alpha =  0.0081\n",
      "working on alpha =  0.0082\n",
      "working on alpha =  0.0083\n",
      "working on alpha =  0.008400000000000001\n",
      "working on alpha =  0.0085\n",
      "working on alpha =  0.0086\n",
      "working on alpha =  0.008700000000000001\n",
      "working on alpha =  0.0088\n",
      "working on alpha =  0.0089\n",
      "working on alpha =  0.009000000000000001\n",
      "working on alpha =  0.0091\n",
      "working on alpha =  0.0092\n",
      "working on alpha =  0.009300000000000001\n",
      "working on alpha =  0.0094\n",
      "working on alpha =  0.0095\n",
      "working on alpha =  0.009600000000000001\n",
      "working on alpha =  0.0097\n",
      "working on alpha =  0.0098\n",
      "working on alpha =  0.0099\n",
      "working on alpha =  0.01\n",
      "working on alpha =  0.010100000000000001\n",
      "working on alpha =  0.0102\n",
      "working on alpha =  0.0103\n",
      "working on alpha =  0.010400000000000001\n",
      "working on alpha =  0.0105\n",
      "working on alpha =  0.0106\n",
      "working on alpha =  0.010700000000000001\n",
      "working on alpha =  0.0108\n",
      "working on alpha =  0.0109\n",
      "working on alpha =  0.011000000000000001\n",
      "working on alpha =  0.0111\n",
      "working on alpha =  0.0112\n",
      "working on alpha =  0.011300000000000001\n",
      "working on alpha =  0.0114\n",
      "working on alpha =  0.0115\n",
      "working on alpha =  0.011600000000000001\n",
      "working on alpha =  0.0117\n",
      "working on alpha =  0.0118\n",
      "working on alpha =  0.0119\n",
      "working on alpha =  0.012\n",
      "working on alpha =  0.012100000000000001\n",
      "working on alpha =  0.0122\n",
      "working on alpha =  0.0123\n",
      "working on alpha =  0.012400000000000001\n",
      "working on alpha =  0.0125\n",
      "working on alpha =  0.0126\n",
      "working on alpha =  0.012700000000000001\n",
      "working on alpha =  0.0128\n",
      "working on alpha =  0.0129\n",
      "working on alpha =  0.013000000000000001\n",
      "working on alpha =  0.0131\n",
      "working on alpha =  0.0132\n",
      "working on alpha =  0.013300000000000001\n",
      "working on alpha =  0.0134\n",
      "working on alpha =  0.0135\n",
      "working on alpha =  0.013600000000000001\n",
      "working on alpha =  0.0137\n",
      "working on alpha =  0.013800000000000002\n",
      "working on alpha =  0.013900000000000001\n",
      "working on alpha =  0.014\n",
      "working on alpha =  0.014100000000000001\n",
      "working on alpha =  0.0142\n",
      "working on alpha =  0.0143\n",
      "working on alpha =  0.014400000000000001\n",
      "working on alpha =  0.0145\n",
      "working on alpha =  0.0146\n",
      "working on alpha =  0.014700000000000001\n",
      "working on alpha =  0.0148\n",
      "working on alpha =  0.0149\n",
      "working on alpha =  0.015000000000000001\n",
      "working on alpha =  0.0151\n",
      "working on alpha =  0.0152\n",
      "working on alpha =  0.015300000000000001\n",
      "working on alpha =  0.0154\n",
      "working on alpha =  0.0155\n",
      "working on alpha =  0.015600000000000001\n",
      "working on alpha =  0.015700000000000002\n",
      "working on alpha =  0.0158\n",
      "working on alpha =  0.0159\n",
      "working on alpha =  0.016\n",
      "working on alpha =  0.0161\n",
      "working on alpha =  0.0162\n",
      "working on alpha =  0.016300000000000002\n",
      "working on alpha =  0.0164\n",
      "working on alpha =  0.0165\n",
      "working on alpha =  0.0166\n",
      "working on alpha =  0.0167\n",
      "working on alpha =  0.016800000000000002\n",
      "working on alpha =  0.016900000000000002\n",
      "working on alpha =  0.017\n",
      "working on alpha =  0.0171\n",
      "working on alpha =  0.0172\n",
      "working on alpha =  0.0173\n",
      "working on alpha =  0.017400000000000002\n",
      "working on alpha =  0.0175\n",
      "working on alpha =  0.0176\n",
      "working on alpha =  0.0177\n",
      "working on alpha =  0.0178\n",
      "working on alpha =  0.0179\n",
      "working on alpha =  0.018000000000000002\n",
      "working on alpha =  0.0181\n",
      "working on alpha =  0.0182\n",
      "working on alpha =  0.0183\n",
      "working on alpha =  0.0184\n",
      "working on alpha =  0.018500000000000003\n",
      "working on alpha =  0.018600000000000002\n",
      "working on alpha =  0.0187\n",
      "working on alpha =  0.0188\n",
      "working on alpha =  0.0189\n",
      "working on alpha =  0.019\n",
      "working on alpha =  0.019100000000000002\n",
      "working on alpha =  0.019200000000000002\n",
      "working on alpha =  0.0193\n",
      "working on alpha =  0.0194\n",
      "working on alpha =  0.0195\n",
      "working on alpha =  0.0196\n",
      "working on alpha =  0.019700000000000002\n",
      "working on alpha =  0.0198\n",
      "working on alpha =  0.0199\n"
     ]
    }
   ],
   "source": [
    "forests = []\n",
    "for ccp_alpha in np.arange(0,0.02, 0.0001):\n",
    "    print('working on alpha = ',str(ccp_alpha))\n",
    "    regr = RandomForestRegressor(max_depth=13, ccp_alpha=ccp_alpha)\n",
    "    regr.fit(train, target_train)\n",
    "    forests.append(regr)"
   ]
  },
  {
   "cell_type": "code",
   "execution_count": 35,
   "id": "948348a6",
   "metadata": {},
   "outputs": [
    {
     "data": {
      "image/png": "[encoded data removed]",
      "text/plain": [
       "<Figure size 432x288 with 1 Axes>"
      ]
     },
     "metadata": {
      "needs_background": "light"
     },
     "output_type": "display_data"
    }
   ],
   "source": [
    "train_scores = []\n",
    "test_scores = []\n",
    "for f in forests: \n",
    "    regr_pred_tr = f.predict(train)\n",
    "    \n",
    "    mse_tr = mean_squared_error(target_train, regr_pred_tr)\n",
    "    train_scores.append(mse_tr)\n",
    "    \n",
    "    regr_pred_te = f.predict(val)\n",
    "    \n",
    "    mse_te = mean_squared_error(target_val, regr_pred_te)\n",
    "    test_scores.append(mse_te)\n",
    "\n",
    "fig, ax = plt.subplots()\n",
    "ax.set_xlabel(\"alpha\")\n",
    "ax.set_ylabel(\"mse\")\n",
    "ax.set_title(\"MSE vs alpha for training and testing sets\")\n",
    "ax.plot(np.arange(0,0.02, 0.0001), train_scores, marker=\"o\", label=\"train\", drawstyle=\"steps-post\")\n",
    "ax.plot(np.arange(0,0.02, 0.0001), test_scores, marker=\"o\", label=\"test\", drawstyle=\"steps-post\")\n",
    "ax.legend()\n",
    "plt.show()"
   ]
  },
  {
   "cell_type": "markdown",
   "id": "f1317f45",
   "metadata": {},
   "source": [
    "It appears that also in this case pruning will not be helpful. We will continue without pruning."
   ]
  },
  {
   "cell_type": "markdown",
   "id": "35b42b58",
   "metadata": {},
   "source": [
    "# Final model\n",
    "The model that performed the best on the validation set was the Random forest regressor with depth = 13 and no pruning. We will use this model on the test set and get the final evaluation."
   ]
  },
  {
   "cell_type": "markdown",
   "id": "0074f34b",
   "metadata": {},
   "source": [
    "We will first combine the train and validation set to get a better training set."
   ]
  },
  {
   "cell_type": "code",
   "execution_count": 55,
   "id": "18427f1c",
   "metadata": {},
   "outputs": [],
   "source": [
    "train_val = pd.concat([train,val])\n",
    "target_train_val = pd.concat([target_train, target_val])"
   ]
  },
  {
   "cell_type": "code",
   "execution_count": 57,
   "id": "c4907a42",
   "metadata": {},
   "outputs": [
    {
     "data": {
      "text/plain": [
       "RandomForestRegressor(max_depth=13, random_state=0)"
      ]
     },
     "execution_count": 57,
     "metadata": {},
     "output_type": "execute_result"
    }
   ],
   "source": [
    "forest_final = RandomForestRegressor(max_depth=13, random_state=0)\n",
    "forest_final.fit(train_val, target_train_val)"
   ]
  },
  {
   "cell_type": "code",
   "execution_count": 58,
   "id": "16ff12c4",
   "metadata": {},
   "outputs": [
    {
     "data": {
      "text/plain": [
       "0.0006838769260951147"
      ]
     },
     "execution_count": 58,
     "metadata": {},
     "output_type": "execute_result"
    }
   ],
   "source": [
    "forest_final_pred = forest_final.predict(test)\n",
    "mse_forest = mean_squared_error(target_test, forest_pred)\n",
    "mse_forest"
   ]
  },
  {
   "cell_type": "code",
   "execution_count": 59,
   "id": "2423f9c2",
   "metadata": {},
   "outputs": [
    {
     "data": {
      "text/plain": [
       "Text(0.5, 1.0, 'Performance of Random Forest Regressor with mse: 0.0007')"
      ]
     },
     "execution_count": 59,
     "metadata": {},
     "output_type": "execute_result"
    },
    {
     "data": {
      "image/png": "[encoded data removed]",
      "text/plain": [
       "<Figure size 432x288 with 1 Axes>"
      ]
     },
     "metadata": {
      "needs_background": "light"
     },
     "output_type": "display_data"
    }
   ],
   "source": [
    "plt.scatter(forest_pred, target_test)\n",
    "plt.xlabel('Predicted value')\n",
    "plt.ylabel('Actual value')\n",
    "plt.title('Performance of Random Forest Regressor with mse: {:.4f}'.format(mse_forest))"
   ]
  },
  {
   "cell_type": "markdown",
   "id": "4eb336e8",
   "metadata": {},
   "source": [
    "# Conclusion"
   ]
  },
  {
   "cell_type": "code",
   "execution_count": 67,
   "id": "cf47afdb",
   "metadata": {},
   "outputs": [
    {
     "data": {
      "text/plain": [
       "0.0006838769260951147"
      ]
     },
     "execution_count": 67,
     "metadata": {},
     "output_type": "execute_result"
    }
   ],
   "source": [
    "mse_forest\n"
   ]
  },
  {
   "cell_type": "code",
   "execution_count": 68,
   "id": "bfed19de",
   "metadata": {},
   "outputs": [
    {
     "data": {
      "text/plain": [
       "0.0015667005108556836"
      ]
     },
     "execution_count": 68,
     "metadata": {},
     "output_type": "execute_result"
    }
   ],
   "source": [
    "mse_ev"
   ]
  },
  {
   "cell_type": "markdown",
   "id": "1138d9ab",
   "metadata": {},
   "source": [
    "After parameter tuning the RandomForestRegressor became the best predictor with an mse of 0.0007, the DecisionTreeRegressor had an mse of 0.0015. "
   ]
  }
 ],
 "metadata": {
  "kernelspec": {
   "display_name": "Python 3 (ipykernel)",
   "language": "python",
   "name": "python3"
  },
  "language_info": {
   "codemirror_mode": {
    "name": "ipython",
    "version": 3
   },
   "file_extension": ".py",
   "mimetype": "text/x-python",
   "name": "python",
   "nbconvert_exporter": "python",
   "pygments_lexer": "ipython3",
   "version": "3.9.7"
  }
 },
 "nbformat": 4,
 "nbformat_minor": 5
}

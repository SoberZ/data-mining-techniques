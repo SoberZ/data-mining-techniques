{
 "cells": [
  {
   "cell_type": "code",
   "execution_count": 1,
   "id": "2125bbe2",
   "metadata": {},
   "outputs": [],
   "source": [
    "import pandas as pd\n",
    "import matplotlib.pyplot as plt\n",
    "import numpy as np\n",
    "from sklearn.cluster import KMeans"
   ]
  },
  {
   "cell_type": "code",
   "execution_count": 2,
   "id": "afdb2e04",
   "metadata": {},
   "outputs": [],
   "source": [
    "dat = pd.read_csv('./data/training_set_VU_DM.csv')"
   ]
  },
  {
   "cell_type": "markdown",
   "id": "54f4f474",
   "metadata": {},
   "source": [
    "The dataset is really large right now. Let's first try to find some basic analytics with just some of the variables."
   ]
  },
  {
   "cell_type": "code",
   "execution_count": 3,
   "id": "c20d2188",
   "metadata": {},
   "outputs": [],
   "source": [
    "hotel_data = dat[['prop_id','price_usd','visitor_location_country_id','visitor_hist_starrating','visitor_hist_adr_usd', 'click_bool', 'booking_bool', 'gross_bookings_usd','srch_length_of_stay','srch_adults_count', 'srch_children_count']].sort_values('prop_id')\n",
    "hotel_data = hotel_data[hotel_data['booking_bool'] != 0]\n",
    "hotel_data['booking_p_night'] = hotel_data['gross_bookings_usd']/hotel_data['srch_length_of_stay']\n",
    "hotel_data['booking_p_person'] = hotel_data['gross_bookings_usd']/(hotel_data['srch_children_count'] + hotel_data['srch_adults_count'])\n",
    "hotel_data['booking_p_night_person'] = hotel_data['gross_bookings_usd']/hotel_data['srch_length_of_stay']/(hotel_data['srch_children_count'] + hotel_data['srch_adults_count'])"
   ]
  },
  {
   "cell_type": "markdown",
   "id": "e1b0776d",
   "metadata": {},
   "source": [
    "We made new variables to try compare the booking with the previous booking in the 'visitor_hist_adr_usd' variable. We first use Pearson's correlation test. "
   ]
  },
  {
   "cell_type": "code",
   "execution_count": 4,
   "id": "0779d951",
   "metadata": {},
   "outputs": [
    {
     "data": {
      "text/html": [
       "<div>\n",
       "<style scoped>\n",
       "    .dataframe tbody tr th:only-of-type {\n",
       "        vertical-align: middle;\n",
       "    }\n",
       "\n",
       "    .dataframe tbody tr th {\n",
       "        vertical-align: top;\n",
       "    }\n",
       "\n",
       "    .dataframe thead th {\n",
       "        text-align: right;\n",
       "    }\n",
       "</style>\n",
       "<table border=\"1\" class=\"dataframe\">\n",
       "  <thead>\n",
       "    <tr style=\"text-align: right;\">\n",
       "      <th></th>\n",
       "      <th>visitor_hist_adr_usd</th>\n",
       "      <th>booking_p_night</th>\n",
       "      <th>booking_p_person</th>\n",
       "      <th>booking_p_night_person</th>\n",
       "    </tr>\n",
       "  </thead>\n",
       "  <tbody>\n",
       "    <tr>\n",
       "      <th>visitor_hist_adr_usd</th>\n",
       "      <td>1.000000</td>\n",
       "      <td>0.290151</td>\n",
       "      <td>0.109992</td>\n",
       "      <td>0.262573</td>\n",
       "    </tr>\n",
       "    <tr>\n",
       "      <th>booking_p_night</th>\n",
       "      <td>0.290151</td>\n",
       "      <td>1.000000</td>\n",
       "      <td>0.534495</td>\n",
       "      <td>0.836849</td>\n",
       "    </tr>\n",
       "    <tr>\n",
       "      <th>booking_p_person</th>\n",
       "      <td>0.109992</td>\n",
       "      <td>0.534495</td>\n",
       "      <td>1.000000</td>\n",
       "      <td>0.604983</td>\n",
       "    </tr>\n",
       "    <tr>\n",
       "      <th>booking_p_night_person</th>\n",
       "      <td>0.262573</td>\n",
       "      <td>0.836849</td>\n",
       "      <td>0.604983</td>\n",
       "      <td>1.000000</td>\n",
       "    </tr>\n",
       "  </tbody>\n",
       "</table>\n",
       "</div>"
      ],
      "text/plain": [
       "                        visitor_hist_adr_usd  booking_p_night  \\\n",
       "visitor_hist_adr_usd                1.000000         0.290151   \n",
       "booking_p_night                     0.290151         1.000000   \n",
       "booking_p_person                    0.109992         0.534495   \n",
       "booking_p_night_person              0.262573         0.836849   \n",
       "\n",
       "                        booking_p_person  booking_p_night_person  \n",
       "visitor_hist_adr_usd            0.109992                0.262573  \n",
       "booking_p_night                 0.534495                0.836849  \n",
       "booking_p_person                1.000000                0.604983  \n",
       "booking_p_night_person          0.604983                1.000000  "
      ]
     },
     "execution_count": 4,
     "metadata": {},
     "output_type": "execute_result"
    }
   ],
   "source": [
    "hotel_data[['visitor_hist_adr_usd','booking_p_night','booking_p_person','booking_p_night_person']].corr()"
   ]
  },
  {
   "cell_type": "markdown",
   "id": "4eeb0248",
   "metadata": {},
   "source": [
    "A convincing correlation cannot be found. This makes sense as we have no information about the previous booking, just the price per night. Based on that information, the booking_p_night variable should be the most comparible, but is barely better than the others. "
   ]
  },
  {
   "cell_type": "code",
   "execution_count": 5,
   "id": "5085249c",
   "metadata": {},
   "outputs": [
    {
     "data": {
      "image/png": "[encoded data removed]",
      "text/plain": [
       "<Figure size 432x288 with 1 Axes>"
      ]
     },
     "metadata": {
      "needs_background": "light"
     },
     "output_type": "display_data"
    }
   ],
   "source": [
    "x = np.arange(0,2000)\n",
    "y = np.arange(0,2000)\n",
    "plt.scatter(hotel_data['booking_p_night'],hotel_data['visitor_hist_adr_usd'], alpha=0.5)\n",
    "plt.plot(x,y, color = 'black')\n",
    "plt.xlabel('booking_p_night')\n",
    "plt.ylabel('visitor_hist_adr_usd')\n",
    "plt.show()"
   ]
  },
  {
   "cell_type": "markdown",
   "id": "d0313069",
   "metadata": {},
   "source": [
    "This plot shows the same result, it is really hard to find some linear relation here. "
   ]
  },
  {
   "cell_type": "markdown",
   "id": "964a6de3",
   "metadata": {},
   "source": [
    "There are multiple type of hotels with multiple dimensions of data. We can try to perform a k-means clustering algorithm to cluster the hotels."
   ]
  },
  {
   "cell_type": "code",
   "execution_count": 6,
   "id": "757f0b4d",
   "metadata": {},
   "outputs": [],
   "source": [
    "hotel_clustering = dat[['prop_country_id','prop_starrating','prop_review_score','prop_brand_bool','prop_location_score1','prop_location_score2','prop_log_historical_price','price_usd','promotion_flag']].dropna()"
   ]
  },
  {
   "cell_type": "markdown",
   "id": "8401c3cf",
   "metadata": {},
   "source": [
    "The elbow method is a useful graphical tool to estimate the optimal number of clusters k for a given task. Intuitively, we can say that, if k increases, the within-cluster SSE (“distortion”) will decrease. This is because the samples will be closer to the centroids they are assigned to.\n",
    "The idea behind the elbow method is to identify the value of k where the distortion begins to decrease most rapidly, which will become clearer if we plot the distortion for different values of k.\n",
    "https://towardsdatascience.com/k-means-clustering-with-scikit-learn-6b47a369a83c"
   ]
  },
  {
   "cell_type": "code",
   "execution_count": 7,
   "id": "a353e72d",
   "metadata": {},
   "outputs": [
    {
     "name": "stdout",
     "output_type": "stream",
     "text": [
      "1\n",
      "2\n",
      "3\n",
      "4\n",
      "5\n",
      "6\n",
      "7\n",
      "8\n",
      "9\n",
      "10\n"
     ]
    },
    {
     "data": {
      "image/png": "[encoded data removed]",
      "text/plain": [
       "<Figure size 432x288 with 1 Axes>"
      ]
     },
     "metadata": {
      "needs_background": "light"
     },
     "output_type": "display_data"
    }
   ],
   "source": [
    "distortions = []\n",
    "for i in range(1, 11):\n",
    "    print(i)\n",
    "    km = KMeans(\n",
    "        n_clusters=i, init='random',\n",
    "        n_init=10, max_iter=300,\n",
    "        tol=1e-04, random_state=0\n",
    "    )\n",
    "    km.fit(hotel_clustering)\n",
    "    distortions.append(km.inertia_)\n",
    "\n",
    "# plot\n",
    "plt.plot(range(1, 11), distortions, marker='o')\n",
    "plt.xlabel('Number of clusters')\n",
    "plt.ylabel('Distortion')\n",
    "plt.show()"
   ]
  },
  {
   "cell_type": "markdown",
   "id": "c1387235",
   "metadata": {},
   "source": [
    "We can see in the resulting plot that the turning point is at k = 3, which means k = 3 is a good choice for the kmeans algorithm. "
   ]
  }
 ],
 "metadata": {
  "kernelspec": {
   "display_name": "Python 3 (ipykernel)",
   "language": "python",
   "name": "python3"
  },
  "language_info": {
   "codemirror_mode": {
    "name": "ipython",
    "version": 3
   },
   "file_extension": ".py",
   "mimetype": "text/x-python",
   "name": "python",
   "nbconvert_exporter": "python",
   "pygments_lexer": "ipython3",
   "version": "3.9.7"
  }
 },
 "nbformat": 4,
 "nbformat_minor": 5
}
